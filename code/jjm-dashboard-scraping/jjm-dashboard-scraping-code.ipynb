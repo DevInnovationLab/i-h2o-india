{
 "cells": [
  {
   "cell_type": "code",
   "execution_count": 15,
   "metadata": {},
   "outputs": [],
   "source": [
    "import requests\n",
    "import pandas as pd\n",
    "\n",
    "#create StCode list\n",
    "stcode_list = ['461','231','211', ]\n",
    "#create DtCode list\n",
    "dtcode_list = ['4951','4881','4891','4921','4941','4991','4931','4%3A61','48%3A1','4971','4%3A%3A1','4%3A81','4%3A51','4%3A51','4%3A71','4%3A31','4%3A41','4811','4%3A21','4841','49%3A1','4911','4821','4%3A11','4861','4%3A91','4871','4961','4981','4831','4851']\n",
    "#create alphabet_search list\n",
    "alphabetsearch_lst = ['B1','C1','D1','E1','F1','G1','H1','I1','J1','K1','L1','M1','N1','O1','P1','Q1','R1','S1','T1','U1','V1','W1','X1','Y1','Z1','%5B1']\n",
    "#create empty dataframe\n",
    "df=pd.DataFrame()\n",
    "#Define session\n",
    "s=requests.session()\n",
    "#Define API url\n",
    "url_search='https://ejalshakti.gov.in/jjmreport/JJMIndia.aspx/Bind_search_Village'\n",
    "#Define header for the post request\n",
    "headers={'user-agent':'Mozilla/5.0 (Macintosh; Intel Mac OS X 10_15_7) AppleWebKit/537.36 (KHTML, like Gecko) Chrome/111.0.0.0 Safari/537.36'}\n",
    "#Define payload for the request form\n",
    "data={\n",
    "    'DtCode': \"4951\",\n",
    "    'StCode': \"321\",\n",
    "    'VillageName': \"B1\"\n",
    "    }\n",
    "req=s.post(url_search,headers=headers,json=data)\n",
    "\n",
    "\n",
    "getdataVillageClick('21','384','404976','0000305249','Odisha','Angul','Abmadara')\n",
    "#read the data back as json file\n",
    "j=req.json()\n",
    "#convert the json file to dataframe\n",
    "df_new=pd.DataFrame(j['d'])\n",
    "#append dataframe to other dataframe\n",
    "df = pd.concat([df,df_new])\n",
    "#save the dataframe as csv file\n",
    "df.to_csv('../../data/jjm-dashboard-scraping/jjm-dashboard-scraping-data.csv')"
   ]
  },
  {
   "cell_type": "code",
   "execution_count": null,
   "metadata": {},
   "outputs": [],
   "source": []
  }
 ],
 "metadata": {
  "kernelspec": {
   "display_name": "Python 3.10.6 64-bit",
   "language": "python",
   "name": "python3"
  },
  "language_info": {
   "codemirror_mode": {
    "name": "ipython",
    "version": 3
   },
   "file_extension": ".py",
   "mimetype": "text/x-python",
   "name": "python",
   "nbconvert_exporter": "python",
   "pygments_lexer": "ipython3",
   "version": "3.10.6"
  },
  "orig_nbformat": 4,
  "vscode": {
   "interpreter": {
    "hash": "aee8b7b246df8f9039afb4144a1f6fd8d2ca17a180786b69acc140d282b71a49"
   }
  }
 },
 "nbformat": 4,
 "nbformat_minor": 2
}
